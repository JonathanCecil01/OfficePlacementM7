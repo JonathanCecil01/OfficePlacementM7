{
  "cells": [
    {
      "cell_type": "code",
      "execution_count": null,
      "metadata": {
        "id": "omBNdlJn-kTL"
      },
      "outputs": [],
      "source": [
        "!pip install -U spacy"
      ]
    },
    {
      "cell_type": "code",
      "execution_count": 5,
      "metadata": {
        "colab": {
          "base_uri": "https://localhost:8080/"
        },
        "id": "SM0gy5gY-wUs",
        "outputId": "6b093d73-f57e-4887-9413-9b630a040678"
      },
      "outputs": [
        {
          "name": "stdout",
          "output_type": "stream",
          "text": [
            "Collecting PyPDF2\n",
            "  Downloading pypdf2-3.0.1-py3-none-any.whl (232 kB)\n",
            "\u001b[?25l     \u001b[90m━━━━━━━━━━━━━━━━━━━━━━━━━━━━━━━━━━━━━━━━\u001b[0m \u001b[32m0.0/232.6 kB\u001b[0m \u001b[31m?\u001b[0m eta \u001b[36m-:--:--\u001b[0m\r\u001b[2K     \u001b[90m━━━━━━━━━━━━━━━━━━━━━━━━━━━━━━━━━━━━━━\u001b[0m \u001b[32m232.6/232.6 kB\u001b[0m \u001b[31m15.7 MB/s\u001b[0m eta \u001b[36m0:00:00\u001b[0m\n",
            "\u001b[?25hInstalling collected packages: PyPDF2\n",
            "Successfully installed PyPDF2-3.0.1\n"
          ]
        }
      ],
      "source": [
        "!pip install PyPDF2"
      ]
    },
    {
      "cell_type": "code",
      "execution_count": null,
      "metadata": {
        "id": "iZHZpceK_wzw"
      },
      "outputs": [],
      "source": [
        "!python -m spacy download en_core_web_lg"
      ]
    },
    {
      "cell_type": "code",
      "execution_count": null,
      "metadata": {
        "id": "EslVIYLO_D2q"
      },
      "outputs": [],
      "source": [
        "import spacy\n",
        "from PyPDF2 import PdfReader\n",
        "import json\n",
        "import fitz"
      ]
    },
    {
      "cell_type": "code",
      "execution_count": 7,
      "metadata": {
        "id": "-d0GBNgf_mPN"
      },
      "outputs": [],
      "source": [
        "nlp = spacy.load('en_core_web_lg')"
      ]
    },
    {
      "cell_type": "code",
      "execution_count": 8,
      "metadata": {
        "id": "W-6RcLCm-1W2"
      },
      "outputs": [],
      "source": [
        "def extract_text_from_pdf(path):\n",
        "    # creating a pdf reader object\n",
        "    reader = PdfReader(path)\n",
        "\n",
        "    # printing number of pages in pdf file\n",
        "    print(len(reader.pages))\n",
        "\n",
        "    # getting a specific page from the pdf file\n",
        "    text_array = []\n",
        "\n",
        "\n",
        "    for i in range(len(reader.pages)):\n",
        "    # extracting text from page\n",
        "        page = reader.pages[i]\n",
        "        text = page.extract_text()\n",
        "        text_array.append(text)\n",
        "\n",
        "    return text_array"
      ]
    },
    {
      "cell_type": "code",
      "execution_count": 9,
      "metadata": {
        "id": "5GGhI5oVBLJU"
      },
      "outputs": [],
      "source": [
        "# Process each page using spaCy\n",
        "\n",
        "def sentence_extraction(filename):\n",
        "\n",
        "  #get text from pdf\n",
        "  text_array =  extract_text_from_pdf(filename)\n",
        "  processed_pages = []\n",
        "  page_no = 0\n",
        "\n",
        "  #converting pages into docs for vectorization\n",
        "  for page in text_array:\n",
        "      doc = nlp(page)\n",
        "      processed_pages.append([doc, page_no])\n",
        "      page_no+=1\n",
        "\n",
        "  #creating sentences array to access every vectorized sentence\n",
        "  sentences = []\n",
        "  for doc, page_no in processed_pages:\n",
        "      for sentence in doc.sents:\n",
        "          sentences.append([sentence, page_no])\n",
        "  return sentences\n"
      ]
    },
    {
      "cell_type": "code",
      "execution_count": 10,
      "metadata": {
        "id": "0TuqIC9NthoV"
      },
      "outputs": [],
      "source": [
        "def highlight_pdf(pdf_path, page_number, sentence):\n",
        "    # Open the PDF file\n",
        "    pdf = fitz.open(pdf_path)\n",
        "\n",
        "    # Select the page based on page_number (starting from 0)\n",
        "    page = pdf[page_number]\n",
        "\n",
        "    # Search for the sentence and get its bounding box\n",
        "    rect = page.search_for(sentence)\n",
        "\n",
        "    # Add a highlight annotation for the sentence\n",
        "    for r in rect:\n",
        "        highlight = page.add_highlight_annot(r)\n",
        "\n",
        "\n"
      ]
    },
    {
      "cell_type": "code",
      "execution_count": 11,
      "metadata": {
        "id": "hk9ve2RAZIq-"
      },
      "outputs": [],
      "source": [
        "def create_json_file(context_sents, filename):\n",
        "  #get the required sentences from the given file\n",
        "  sentences = sentence_extraction(filename)\n",
        "\n",
        "  #create a dictionary to dump into the json file\n",
        "  context_dict = {}\n",
        "  for input_sent in context_sents:\n",
        "    context_dict[input_sent] = []\n",
        "\n",
        "  for input_sent in context_sents:\n",
        "    # Process the input sentence\n",
        "    input_doc = nlp(input_sent)\n",
        "\n",
        "    # Calculate similarity with each sentence\n",
        "    similarity_scores = []\n",
        "    for sentence, page_no in sentences:\n",
        "        similarity_score = input_doc.similarity(sentence)\n",
        "        similarity_scores.append((sentence, similarity_score, page_no))\n",
        "\n",
        "    # Sort similarity scores in descending order\n",
        "    similarity_scores.sort(key=lambda x: x[1], reverse=True)\n",
        "    i = 0\n",
        "    # Print the most similar sentences\n",
        "    for sentence, similarity_score, page_no in similarity_scores:\n",
        "        temp_dict = {}\n",
        "        temp_dict['file'] = filename\n",
        "        temp_dict['page_no'] = page_no\n",
        "        temp_dict['sentence'] = sentence.text\n",
        "        temp_dict['similarity_score'] = similarity_score\n",
        "        context_dict[input_sent].append(temp_dict)\n",
        "        #highlight_pdf(filename, page_no, sentence.text)  #uncomment to highlight in pdf\n",
        "        if i==10: #returns only the top 10 sentence matches\n",
        "          break\n",
        "        i+=1\n",
        "\n",
        "    #print(context_dict)\n",
        "\n",
        "    #write into json file\n",
        "    json_string = json.dumps(context_dict, indent = 2)\n",
        "    with open(\"context_search_results.json\", \"w\") as f:\n",
        "      f.write(json_string)\n",
        "\n"
      ]
    },
    {
      "cell_type": "code",
      "execution_count": 12,
      "metadata": {
        "colab": {
          "base_uri": "https://localhost:8080/"
        },
        "id": "ZCXeiVf6bCSN",
        "outputId": "f606c699-37fe-48fa-cc59-43743d5691b9"
      },
      "outputs": [
        {
          "name": "stdout",
          "output_type": "stream",
          "text": [
            "512\n"
          ]
        },
        {
          "name": "stderr",
          "output_type": "stream",
          "text": [
            "<ipython-input-11-a21d94cb8d3f>:14: UserWarning: [W008] Evaluating Doc.similarity based on empty vectors.\n",
            "  similarity_score = input_doc.similarity(sentence)\n"
          ]
        },
        {
          "name": "stdout",
          "output_type": "stream",
          "text": [
            "{'neural networks are the best for image recognition': [{'file': '/content/2018_Book_NeuralNetworksAndDeepLearning.pdf', 'page_no': 219, 'sentence': 'Convolutional neural networks are used for image\\nrecognition and prediction.', 'similarity_score': 0.9343882001078312}, {'file': '/content/2018_Book_NeuralNetworksAndDeepLearning.pdf', 'page_no': 59, 'sentence': '1.6.5 Convolutional Neural Networks\\nConvolutional neural networks are biologically inspired networks that are used in computer\\nvision for image classiﬁcation and object detection.', 'similarity_score': 0.9264531609446556}, {'file': '/content/2018_Book_NeuralNetworksAndDeepLearning.pdf', 'page_no': 386, 'sentence': 'The two most popular data sets for testing convolutional neural networks are MNIST\\nandImageNet .', 'similarity_score': 0.9095713538369533}, {'file': '/content/2018_Book_NeuralNetworksAndDeepLearning.pdf', 'page_no': 72, 'sentence': 'Neural networks are also parameterized models that are learned with continuous optimiza-\\ntion methods.', 'similarity_score': 0.9064293273065994}, {'file': '/content/2018_Book_NeuralNetworksAndDeepLearning.pdf', 'page_no': 5, 'sentence': 'Neural networks are theoretically capable of learning any mathematical function with\\nsuﬃcient training data, and some variants like recurrent neural networks are known to be\\nTuring complete .', 'similarity_score': 0.9062019064588749}, {'file': '/content/2018_Book_NeuralNetworksAndDeepLearning.pdf', 'page_no': 446, 'sentence': 'The hidden states within the\\nneural network can be viewed in a similar way to CPU registers that are used for transitory\\ncomputation, whereas the external memory is used for persistent computation.', 'similarity_score': 0.9016970820213827}, {'file': '/content/2018_Book_NeuralNetworksAndDeepLearning.pdf', 'page_no': 482, 'sentence': 'Deformable part models are convolutional\\nneural networks.', 'similarity_score': 0.8983858231825262}, {'file': '/content/2018_Book_NeuralNetworksAndDeepLearning.pdf', 'page_no': 301, 'sentence': 'Bidirectional recurrent neural networks are appropriate for applications in which the pre-\\ndictions are not causal based on a historical window.', 'similarity_score': 0.8972949390918716}, {'file': '/content/2018_Book_NeuralNetworksAndDeepLearning.pdf', 'page_no': 231, 'sentence': 'However, the results of generative\\nadversarial networks are often more realistic because the decoders are explicitly trained to\\ncreate good counterfeits.', 'similarity_score': 0.8968398967818455}, {'file': '/content/2018_Book_NeuralNetworksAndDeepLearning.pdf', 'page_no': 232, 'sentence': 'Several regularization\\nmethods have also been proposed that are speciﬁcally designed for neural architectures.\\n', 'similarity_score': 0.8968308355195864}, {'file': '/content/2018_Book_NeuralNetworksAndDeepLearning.pdf', 'page_no': 207, 'sentence': 'One possibility is to predict the test instance using all the neural networks\\nthat were sampled, and then use the geometric mean of the probabilities that are predicted\\nby the diﬀerent networks.', 'similarity_score': 0.8968118360821143}], 'Long term memory in Neural Networks': [], 'IMage segmentation': []}\n",
            "{'neural networks are the best for image recognition': [{'file': '/content/2018_Book_NeuralNetworksAndDeepLearning.pdf', 'page_no': 219, 'sentence': 'Convolutional neural networks are used for image\\nrecognition and prediction.', 'similarity_score': 0.9343882001078312}, {'file': '/content/2018_Book_NeuralNetworksAndDeepLearning.pdf', 'page_no': 59, 'sentence': '1.6.5 Convolutional Neural Networks\\nConvolutional neural networks are biologically inspired networks that are used in computer\\nvision for image classiﬁcation and object detection.', 'similarity_score': 0.9264531609446556}, {'file': '/content/2018_Book_NeuralNetworksAndDeepLearning.pdf', 'page_no': 386, 'sentence': 'The two most popular data sets for testing convolutional neural networks are MNIST\\nandImageNet .', 'similarity_score': 0.9095713538369533}, {'file': '/content/2018_Book_NeuralNetworksAndDeepLearning.pdf', 'page_no': 72, 'sentence': 'Neural networks are also parameterized models that are learned with continuous optimiza-\\ntion methods.', 'similarity_score': 0.9064293273065994}, {'file': '/content/2018_Book_NeuralNetworksAndDeepLearning.pdf', 'page_no': 5, 'sentence': 'Neural networks are theoretically capable of learning any mathematical function with\\nsuﬃcient training data, and some variants like recurrent neural networks are known to be\\nTuring complete .', 'similarity_score': 0.9062019064588749}, {'file': '/content/2018_Book_NeuralNetworksAndDeepLearning.pdf', 'page_no': 446, 'sentence': 'The hidden states within the\\nneural network can be viewed in a similar way to CPU registers that are used for transitory\\ncomputation, whereas the external memory is used for persistent computation.', 'similarity_score': 0.9016970820213827}, {'file': '/content/2018_Book_NeuralNetworksAndDeepLearning.pdf', 'page_no': 482, 'sentence': 'Deformable part models are convolutional\\nneural networks.', 'similarity_score': 0.8983858231825262}, {'file': '/content/2018_Book_NeuralNetworksAndDeepLearning.pdf', 'page_no': 301, 'sentence': 'Bidirectional recurrent neural networks are appropriate for applications in which the pre-\\ndictions are not causal based on a historical window.', 'similarity_score': 0.8972949390918716}, {'file': '/content/2018_Book_NeuralNetworksAndDeepLearning.pdf', 'page_no': 231, 'sentence': 'However, the results of generative\\nadversarial networks are often more realistic because the decoders are explicitly trained to\\ncreate good counterfeits.', 'similarity_score': 0.8968398967818455}, {'file': '/content/2018_Book_NeuralNetworksAndDeepLearning.pdf', 'page_no': 232, 'sentence': 'Several regularization\\nmethods have also been proposed that are speciﬁcally designed for neural architectures.\\n', 'similarity_score': 0.8968308355195864}, {'file': '/content/2018_Book_NeuralNetworksAndDeepLearning.pdf', 'page_no': 207, 'sentence': 'One possibility is to predict the test instance using all the neural networks\\nthat were sampled, and then use the geometric mean of the probabilities that are predicted\\nby the diﬀerent networks.', 'similarity_score': 0.8968118360821143}], 'Long term memory in Neural Networks': [{'file': '/content/2018_Book_NeuralNetworksAndDeepLearning.pdf', 'page_no': 491, 'sentence': 'Learning longer memory in\\nrecurrent neural networks.', 'similarity_score': 0.835540239421429}, {'file': '/content/2018_Book_NeuralNetworksAndDeepLearning.pdf', 'page_no': 478, 'sentence': 'Neural networks in multivariate calibration.', 'similarity_score': 0.8128283328038154}, {'file': '/content/2018_Book_NeuralNetworksAndDeepLearning.pdf', 'page_no': 484, 'sentence': 'Gradient ﬂow in recurrent nets:\\nthe diﬃculty of learning long-term dependencies, A Field Guide to Dynamical Recurrent\\nNeural Networks , IEEE Press, 2001.\\n', 'similarity_score': 0.8107431688801088}, {'file': '/content/2018_Book_NeuralNetworksAndDeepLearning.pdf', 'page_no': 357, 'sentence': 'This success rekindled\\ninterest in deep learning in general, and convolutional neural networks in particular.\\n', 'similarity_score': 0.8002858914600265}, {'file': '/content/2018_Book_NeuralNetworksAndDeepLearning.pdf', 'page_no': 291, 'sentence': 'rt -\\nterm memory networks are discussed in Section 7.5.', 'similarity_score': 0.7969047515540317}, {'file': '/content/2018_Book_NeuralNetworksAndDeepLearning.pdf', 'page_no': 23, 'sentence': 'Practical issues in\\nneuralnetworktrainingarediscussedinSection 1.4.Somekeypointsonhowneuralnetworks\\ngaintheirpowerwithspeciﬁcchoicesofactivationfunctionsarediscussedinSection 1.5.The\\ncommon architectures used in neural network design are discussed in Section 1.6.', 'similarity_score': 0.7951761007199488}, {'file': '/content/2018_Book_NeuralNetworksAndDeepLearning.pdf', 'page_no': 219, 'sentence': 'Recurrent\\nneural networks are discussed in detail in Chapter 7.\\n3.Convolutional neural networks:', 'similarity_score': 0.7870554901720138}, {'file': '/content/2018_Book_NeuralNetworksAndDeepLearning.pdf', 'page_no': 488, 'sentence': 'Convolutional networks and applications in\\nvision.', 'similarity_score': 0.7845973753341998}, {'file': '/content/2018_Book_NeuralNetworksAndDeepLearning.pdf', 'page_no': 350, 'sentence': 'In convolution\\nneural networks, the backpropagated derivatives are also associated with spatial positions\\nin the layers.', 'similarity_score': 0.7797072717687308}, {'file': '/content/2018_Book_NeuralNetworksAndDeepLearning.pdf', 'page_no': 402, 'sentence': 'The algorithm faced the greatest challenges in\\ngames in which longer-term strategies were required.', 'similarity_score': 0.778545566876831}, {'file': '/content/2018_Book_NeuralNetworksAndDeepLearning.pdf', 'page_no': 425, 'sentence': 'In addition, the work\\nuses some advances in convolutional neural networks for modeling.', 'similarity_score': 0.7737882005911527}], 'IMage segmentation': []}\n",
            "{'neural networks are the best for image recognition': [{'file': '/content/2018_Book_NeuralNetworksAndDeepLearning.pdf', 'page_no': 219, 'sentence': 'Convolutional neural networks are used for image\\nrecognition and prediction.', 'similarity_score': 0.9343882001078312}, {'file': '/content/2018_Book_NeuralNetworksAndDeepLearning.pdf', 'page_no': 59, 'sentence': '1.6.5 Convolutional Neural Networks\\nConvolutional neural networks are biologically inspired networks that are used in computer\\nvision for image classiﬁcation and object detection.', 'similarity_score': 0.9264531609446556}, {'file': '/content/2018_Book_NeuralNetworksAndDeepLearning.pdf', 'page_no': 386, 'sentence': 'The two most popular data sets for testing convolutional neural networks are MNIST\\nandImageNet .', 'similarity_score': 0.9095713538369533}, {'file': '/content/2018_Book_NeuralNetworksAndDeepLearning.pdf', 'page_no': 72, 'sentence': 'Neural networks are also parameterized models that are learned with continuous optimiza-\\ntion methods.', 'similarity_score': 0.9064293273065994}, {'file': '/content/2018_Book_NeuralNetworksAndDeepLearning.pdf', 'page_no': 5, 'sentence': 'Neural networks are theoretically capable of learning any mathematical function with\\nsuﬃcient training data, and some variants like recurrent neural networks are known to be\\nTuring complete .', 'similarity_score': 0.9062019064588749}, {'file': '/content/2018_Book_NeuralNetworksAndDeepLearning.pdf', 'page_no': 446, 'sentence': 'The hidden states within the\\nneural network can be viewed in a similar way to CPU registers that are used for transitory\\ncomputation, whereas the external memory is used for persistent computation.', 'similarity_score': 0.9016970820213827}, {'file': '/content/2018_Book_NeuralNetworksAndDeepLearning.pdf', 'page_no': 482, 'sentence': 'Deformable part models are convolutional\\nneural networks.', 'similarity_score': 0.8983858231825262}, {'file': '/content/2018_Book_NeuralNetworksAndDeepLearning.pdf', 'page_no': 301, 'sentence': 'Bidirectional recurrent neural networks are appropriate for applications in which the pre-\\ndictions are not causal based on a historical window.', 'similarity_score': 0.8972949390918716}, {'file': '/content/2018_Book_NeuralNetworksAndDeepLearning.pdf', 'page_no': 231, 'sentence': 'However, the results of generative\\nadversarial networks are often more realistic because the decoders are explicitly trained to\\ncreate good counterfeits.', 'similarity_score': 0.8968398967818455}, {'file': '/content/2018_Book_NeuralNetworksAndDeepLearning.pdf', 'page_no': 232, 'sentence': 'Several regularization\\nmethods have also been proposed that are speciﬁcally designed for neural architectures.\\n', 'similarity_score': 0.8968308355195864}, {'file': '/content/2018_Book_NeuralNetworksAndDeepLearning.pdf', 'page_no': 207, 'sentence': 'One possibility is to predict the test instance using all the neural networks\\nthat were sampled, and then use the geometric mean of the probabilities that are predicted\\nby the diﬀerent networks.', 'similarity_score': 0.8968118360821143}], 'Long term memory in Neural Networks': [{'file': '/content/2018_Book_NeuralNetworksAndDeepLearning.pdf', 'page_no': 491, 'sentence': 'Learning longer memory in\\nrecurrent neural networks.', 'similarity_score': 0.835540239421429}, {'file': '/content/2018_Book_NeuralNetworksAndDeepLearning.pdf', 'page_no': 478, 'sentence': 'Neural networks in multivariate calibration.', 'similarity_score': 0.8128283328038154}, {'file': '/content/2018_Book_NeuralNetworksAndDeepLearning.pdf', 'page_no': 484, 'sentence': 'Gradient ﬂow in recurrent nets:\\nthe diﬃculty of learning long-term dependencies, A Field Guide to Dynamical Recurrent\\nNeural Networks , IEEE Press, 2001.\\n', 'similarity_score': 0.8107431688801088}, {'file': '/content/2018_Book_NeuralNetworksAndDeepLearning.pdf', 'page_no': 357, 'sentence': 'This success rekindled\\ninterest in deep learning in general, and convolutional neural networks in particular.\\n', 'similarity_score': 0.8002858914600265}, {'file': '/content/2018_Book_NeuralNetworksAndDeepLearning.pdf', 'page_no': 291, 'sentence': 'rt -\\nterm memory networks are discussed in Section 7.5.', 'similarity_score': 0.7969047515540317}, {'file': '/content/2018_Book_NeuralNetworksAndDeepLearning.pdf', 'page_no': 23, 'sentence': 'Practical issues in\\nneuralnetworktrainingarediscussedinSection 1.4.Somekeypointsonhowneuralnetworks\\ngaintheirpowerwithspeciﬁcchoicesofactivationfunctionsarediscussedinSection 1.5.The\\ncommon architectures used in neural network design are discussed in Section 1.6.', 'similarity_score': 0.7951761007199488}, {'file': '/content/2018_Book_NeuralNetworksAndDeepLearning.pdf', 'page_no': 219, 'sentence': 'Recurrent\\nneural networks are discussed in detail in Chapter 7.\\n3.Convolutional neural networks:', 'similarity_score': 0.7870554901720138}, {'file': '/content/2018_Book_NeuralNetworksAndDeepLearning.pdf', 'page_no': 488, 'sentence': 'Convolutional networks and applications in\\nvision.', 'similarity_score': 0.7845973753341998}, {'file': '/content/2018_Book_NeuralNetworksAndDeepLearning.pdf', 'page_no': 350, 'sentence': 'In convolution\\nneural networks, the backpropagated derivatives are also associated with spatial positions\\nin the layers.', 'similarity_score': 0.7797072717687308}, {'file': '/content/2018_Book_NeuralNetworksAndDeepLearning.pdf', 'page_no': 402, 'sentence': 'The algorithm faced the greatest challenges in\\ngames in which longer-term strategies were required.', 'similarity_score': 0.778545566876831}, {'file': '/content/2018_Book_NeuralNetworksAndDeepLearning.pdf', 'page_no': 425, 'sentence': 'In addition, the work\\nuses some advances in convolutional neural networks for modeling.', 'similarity_score': 0.7737882005911527}], 'IMage segmentation': [{'file': '/content/2018_Book_NeuralNetworksAndDeepLearning.pdf', 'page_no': 481, 'sentence': 'Connectionist temporal classiﬁca-\\ntion: labelling unsegmented sequence data with recurrent neural networks.', 'similarity_score': 0.8496669805870194}, {'file': '/content/2018_Book_NeuralNetworksAndDeepLearning.pdf', 'page_no': 376, 'sentence': 'CONVOLUTIONAL NEURAL NETWORKS\\nTable 8.4: The relationship between backpropagation and decoders\\nLinear Operation Traditional neural networks Convolutional neural networks\\nForward Propagation Matrix multiplication Convolution\\nBackpropagation Transposed matrix multiplication Transposed convolution\\nDecoder layer Transposed matrix multiplication Transposed convolution\\n(Identical to backpropagation) (Identical to backpropagation)\\nsimilar in traditional and convolutional neural networks in terms of how the corresponding\\nmatrix operations are performed.', 'similarity_score': 0.8489400189740286}, {'file': '/content/2018_Book_NeuralNetworksAndDeepLearning.pdf', 'page_no': 497, 'sentence': 'Overfeat: Integrated\\nrecognition, localization and detection using convolutional networks.', 'similarity_score': 0.8451061374601743}, {'file': '/content/2018_Book_NeuralNetworksAndDeepLearning.pdf', 'page_no': 421, 'sentence': 'The expected\\nposition using this probability distribution provides the 2-dimensional coordinate, which is', 'similarity_score': 0.8445626416023504}, {'file': '/content/2018_Book_NeuralNetworksAndDeepLearning.pdf', 'page_no': 321, 'sentence': 'RECURRENT NEURAL NETWORKS\\n7.7.4 Token-Level Classiﬁcation with Linguistic Features\\nThe numerous applications of token-level classiﬁcation include information extraction and\\ntext segmentation.', 'similarity_score': 0.8429427359552121}, {'file': '/content/2018_Book_NeuralNetworksAndDeepLearning.pdf', 'page_no': 322, 'sentence': '7.7.5 Time-Series Forecasting and Prediction\\nRecurrent neural networks present a natural choice for time-series forecasting and predic-\\ntion.', 'similarity_score': 0.8345248705928429}, {'file': '/content/2018_Book_NeuralNetworksAndDeepLearning.pdf', 'page_no': 488, 'sentence': 'Learning hierarchical spatio-temporal features for action\\nrecognition with independent subspace analysis.', 'similarity_score': 0.831322472349452}, {'file': '/content/2018_Book_NeuralNetworksAndDeepLearning.pdf', 'page_no': 500, 'sentence': 'Auto-WEKA: Combined selec-\\ntion and hyperparameter optimization of classiﬁcation algorithms.', 'similarity_score': 0.8267971719715753}, {'file': '/content/2018_Book_NeuralNetworksAndDeepLearning.pdf', 'page_no': 31, 'sentence': 'ah\\nPOST-ACTIVATION \\nVALUE\\nPRE-ACTIVATION \\nVALUE= W  X.{XW\\nh= (ah)           {XW\\nFigure 1.7: Pre-activation and post-activation values within a neuron\\nThe value computed before applying the activation function Φ( ·) will be referred to as the\\npre-activation value , whereas the value computed after applying the activation function is\\nreferred to as the post-activation value .', 'similarity_score': 0.8266526421380105}, {'file': '/content/2018_Book_NeuralNetworksAndDeepLearning.pdf', 'page_no': 479, 'sentence': 'Improving generalization performance using double backpropaga-\\ntion.', 'similarity_score': 0.8210169365069533}, {'file': '/content/2018_Book_NeuralNetworksAndDeepLearning.pdf', 'page_no': 396, 'sentence': 'The data generated by tri al-and-error\\nprovides the only experience for training a very complex evaluation function that is\\nindirectly encoded within the parameters of the neural network.', 'similarity_score': 0.8203755467248562}]}\n"
          ]
        }
      ],
      "source": [
        "\n",
        "#The sentences are of the form list of strings\n",
        "#followed by the filename as a string\n",
        "create_json_file([\"neural networks are the best for image recognition\", \"Long term memory in Neural Networks\", \"IMage segmentation\"], '/content/2018_Book_NeuralNetworksAndDeepLearning.pdf')"
      ]
    }
  ],
  "metadata": {
    "accelerator": "GPU",
    "colab": {
      "gpuType": "T4",
      "provenance": []
    },
    "kernelspec": {
      "display_name": "Python 3",
      "name": "python3"
    },
    "language_info": {
      "name": "python"
    }
  },
  "nbformat": 4,
  "nbformat_minor": 0
}
