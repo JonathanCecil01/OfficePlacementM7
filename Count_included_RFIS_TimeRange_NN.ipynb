{
  "cells": [
    {
      "cell_type": "code",
      "execution_count": 2,
      "metadata": {
        "id": "JwTUZOAyuhRr"
      },
      "outputs": [
        {
          "name": "stderr",
          "output_type": "stream",
          "text": [
            "2023-06-19 10:42:00.145873: I tensorflow/core/platform/cpu_feature_guard.cc:182] This TensorFlow binary is optimized to use available CPU instructions in performance-critical operations.\n",
            "To enable the following instructions: AVX2 FMA, in other operations, rebuild TensorFlow with the appropriate compiler flags.\n"
          ]
        }
      ],
      "source": [
        "import numpy as np\n",
        "import math\n",
        "import csv\n",
        "from copy import deepcopy\n",
        "import matplotlib.pyplot as plt\n",
        "import tensorflow as tf\n",
        "import numpy as np\n",
        "from tensorflow import keras\n",
        "from tensorflow.keras import layers"
      ]
    },
    {
      "cell_type": "markdown",
      "metadata": {
        "id": "eWs6atdru5aX"
      },
      "source": [
        "Reading data for training"
      ]
    },
    {
      "cell_type": "code",
      "execution_count": 3,
      "metadata": {
        "id": "2rIq7Xlvuq2J"
      },
      "outputs": [],
      "source": [
        "def read_data():\n",
        "    inputs  = []\n",
        "    with open('rawData.csv', 'r') as file:  #change to any path name where landmark data exists\n",
        "        reader = csv.reader(file)\n",
        "        for row in reader:\n",
        "            inputs.append(row)\n",
        "    file.close()\n",
        "    return inputs"
      ]
    },
    {
      "cell_type": "markdown",
      "metadata": {
        "id": "YfHbDH0Mu7un"
      },
      "source": [
        "Organising Data into a Dictionary\n"
      ]
    },
    {
      "cell_type": "code",
      "execution_count": 4,
      "metadata": {
        "id": "tI2aq-q2u1K1"
      },
      "outputs": [],
      "source": [
        "data = read_data() #contains row wise arranged Product with location id"
      ]
    },
    {
      "cell_type": "code",
      "execution_count": 5,
      "metadata": {
        "id": "slSgNb3y5vU2"
      },
      "outputs": [
        {
          "ename": "AttributeError",
          "evalue": "'list' object has no attribute 'apppend'",
          "output_type": "error",
          "traceback": [
            "\u001b[0;31m---------------------------------------------------------------------------\u001b[0m",
            "\u001b[0;31mAttributeError\u001b[0m                            Traceback (most recent call last)",
            "Cell \u001b[0;32mIn[5], line 5\u001b[0m\n\u001b[1;32m      3\u001b[0m \u001b[39mfor\u001b[39;00m row \u001b[39min\u001b[39;00m data:\n\u001b[1;32m      4\u001b[0m   inputs\u001b[39m.\u001b[39mappend([data[\u001b[39m2\u001b[39m], data[\u001b[39m3\u001b[39m]]\u001b[39m+\u001b[39m data[\u001b[39m4\u001b[39m:\u001b[39m-\u001b[39m\u001b[39m1\u001b[39m])\n\u001b[0;32m----> 5\u001b[0m   outputs\u001b[39m.\u001b[39;49mapppend(data[\u001b[39m-\u001b[39m\u001b[39m1\u001b[39m])\n",
            "\u001b[0;31mAttributeError\u001b[0m: 'list' object has no attribute 'apppend'"
          ]
        }
      ],
      "source": [
        "inputs = [] #initializing the list of inputs\n",
        "outputs = []  #initialixzing the list of outputs\n",
        "for row in data:\n",
        "  inputs.append([data[2], data[3]]+ data[4:-1])\n",
        "  outputs.apppend(data[-1])\n"
      ]
    },
    {
      "cell_type": "code",
      "execution_count": null,
      "metadata": {
        "colab": {
          "base_uri": "https://localhost:8080/"
        },
        "id": "Nw9pdik3H0mw",
        "outputId": "19c70805-715b-4e4f-bb8a-772f7e7b89bb"
      },
      "outputs": [
        {
          "name": "stdout",
          "output_type": "stream",
          "text": [
            "1281618\n"
          ]
        }
      ],
      "source": [
        "print(len(inputs))"
      ]
    },
    {
      "cell_type": "markdown",
      "metadata": {
        "id": "7hAIQjW3RGcL"
      },
      "source": [
        "SHUFFLE the input output pair\n"
      ]
    },
    {
      "cell_type": "code",
      "execution_count": null,
      "metadata": {
        "id": "7lxz2-TuQpHo"
      },
      "outputs": [],
      "source": [
        "inputs = np.array(inputs)   #converting inputs and outputs to numpy arrays for feeding into neural network\n",
        "outputs = np.array(outputs)\n",
        "temp = []\n",
        "for i in range(0, len(outputs)):\n",
        "  temp.append([inputs[i], outputs[i]])\n",
        "\n",
        "np.random.shuffle(temp)   #shuffling the input output pairs to avoid pre existing patterns which might distrupt the network 's learning while train and test split\n",
        "\n",
        "inputs = []\n",
        "outputs = []\n",
        "for i in temp:\n",
        "  inputs.append(i[0])\n",
        "  outputs.append(i[1])\n",
        "inputs = np.array(inputs)\n",
        "outputs = np.array(outputs)"
      ]
    },
    {
      "cell_type": "code",
      "execution_count": null,
      "metadata": {
        "colab": {
          "base_uri": "https://localhost:8080/"
        },
        "id": "yZMGwFkfRQIw",
        "outputId": "09155630-6ddd-46e8-81d7-2f376b2555a1"
      },
      "outputs": [
        {
          "name": "stdout",
          "output_type": "stream",
          "text": [
            "[-91.         -91.         -91.         -91.         -91.\n",
            " -91.         -67.16754357 -91.         -91.         -91.\n",
            " -91.         -91.         -91.         -91.         -91.\n",
            " -91.         -91.         -91.         -91.         -91.\n",
            " -91.         -91.         -91.         -91.         -91.\n",
            " -91.         -91.         -91.         -91.         -91.\n",
            " -91.         -91.         -91.         -91.         -91.\n",
            " -91.         -91.         -91.         -91.         -91.\n",
            " -79.        ]\n",
            "[0 1 0 0 0 0 0 0]\n"
          ]
        }
      ],
      "source": [
        "print(inputs[21312])\n",
        "print(outputs[21312])  #checking if the lenght of the pairs is maintained"
      ]
    },
    {
      "cell_type": "code",
      "execution_count": null,
      "metadata": {
        "id": "tY1Ooh53Q9NS"
      },
      "outputs": [],
      "source": [
        "x_train = inputs[:int(len(inputs)*0.8)] #test train split of the data\n",
        "x_test = inputs[int(len(inputs)*0.8):]\n",
        "y_train = outputs[:int(len(inputs)*0.8)]\n",
        "y_test = outputs[int(len(inputs)*0.8):]"
      ]
    },
    {
      "cell_type": "code",
      "execution_count": null,
      "metadata": {
        "id": "2L8AXfFTRZQY"
      },
      "outputs": [],
      "source": [
        "#Creating a Neural Network in keras with 2 hidden layers\n",
        "#Hidden layer 1 has 150 nodes and the same with hidden layer 2\n",
        "#the sigmoid and soft max activation finctions are used in the network\n",
        "#Back propogation is also present\n",
        "#Cross entropy loss function is used since it is a classification problem\n",
        "\n",
        "model = keras.Sequential([\n",
        "    layers.Dense(150, activation='sigmoid', input_shape=(120,)),\n",
        "    layers.Dropout(0.5),\n",
        "    layers.Dense(150, activation='sigmoid'),\n",
        "    layers.Dropout(0.5),\n",
        "    layers.Dense(8, activation='softmax')\n",
        "])\n",
        "model.compile(optimizer='adam', loss='categorical_crossentropy', metrics=['accuracy'])\n"
      ]
    },
    {
      "cell_type": "code",
      "execution_count": null,
      "metadata": {
        "colab": {
          "base_uri": "https://localhost:8080/"
        },
        "id": "7Hd86fXuRgfZ",
        "outputId": "01a5421f-0fa9-4803-bb1e-e7c4df35f2de"
      },
      "outputs": [
        {
          "name": "stdout",
          "output_type": "stream",
          "text": [
            "Epoch 1/10\n",
            "411/411 [==============================] - 11s 25ms/step - loss: 1.4734 - accuracy: 0.4747 - val_loss: 0.5942 - val_accuracy: 0.8445\n",
            "Epoch 2/10\n",
            "411/411 [==============================] - 11s 26ms/step - loss: 0.8135 - accuracy: 0.7106 - val_loss: 0.3976 - val_accuracy: 0.8778\n",
            "Epoch 3/10\n",
            "411/411 [==============================] - 11s 27ms/step - loss: 0.6649 - accuracy: 0.7517 - val_loss: 0.3454 - val_accuracy: 0.8781\n",
            "Epoch 4/10\n",
            "411/411 [==============================] - 11s 27ms/step - loss: 0.5966 - accuracy: 0.7714 - val_loss: 0.3263 - val_accuracy: 0.8801\n",
            "Epoch 5/10\n",
            "411/411 [==============================] - 10s 24ms/step - loss: 0.5548 - accuracy: 0.7844 - val_loss: 0.3180 - val_accuracy: 0.8827\n",
            "Epoch 6/10\n",
            "411/411 [==============================] - 10s 25ms/step - loss: 0.5291 - accuracy: 0.7929 - val_loss: 0.3117 - val_accuracy: 0.8811\n",
            "Epoch 7/10\n",
            "411/411 [==============================] - 11s 27ms/step - loss: 0.5054 - accuracy: 0.8011 - val_loss: 0.3001 - val_accuracy: 0.8815\n",
            "Epoch 8/10\n",
            "411/411 [==============================] - 11s 27ms/step - loss: 0.4916 - accuracy: 0.8058 - val_loss: 0.2996 - val_accuracy: 0.8789\n",
            "Epoch 9/10\n",
            "411/411 [==============================] - 9s 22ms/step - loss: 0.4968 - accuracy: 0.8031 - val_loss: 0.2923 - val_accuracy: 0.8827\n",
            "Epoch 10/10\n",
            "411/411 [==============================] - 11s 27ms/step - loss: 0.4851 - accuracy: 0.8064 - val_loss: 0.2974 - val_accuracy: 0.8806\n"
          ]
        }
      ],
      "source": [
        "#Training the model with batch size as 10000 and 1000 epochs, might take 4 minutes to run in the GPU\n",
        "\n",
        "history = model.fit(x_train, y_train, batch_size=2000, epochs=10, validation_split = 0.2)"
      ]
    },
    {
      "cell_type": "code",
      "execution_count": null,
      "metadata": {
        "colab": {
          "base_uri": "https://localhost:8080/"
        },
        "id": "8Qo1CAYqR8Zl",
        "outputId": "75f7bddd-5087-4959-d147-726d4f399acd"
      },
      "outputs": [
        {
          "name": "stdout",
          "output_type": "stream",
          "text": [
            "8011/8011 [==============================] - 12s 2ms/step - loss: 0.2961 - accuracy: 0.8811\n"
          ]
        },
        {
          "data": {
            "text/plain": [
              "[0.29613250494003296, 0.8811348080635071]"
            ]
          },
          "execution_count": 77,
          "metadata": {},
          "output_type": "execute_result"
        }
      ],
      "source": [
        "model.evaluate(x_test, y_test) #Evaluation with the test sets"
      ]
    },
    {
      "cell_type": "code",
      "execution_count": null,
      "metadata": {
        "colab": {
          "base_uri": "https://localhost:8080/",
          "height": 927
        },
        "id": "u2CiOcuJSHXH",
        "outputId": "8e7b374b-345d-4a42-df97-2083a2de593a"
      },
      "outputs": [
        {
          "data": {
            "image/png": "[encoded data removed]",
            "text/plain": [
              "<Figure size 640x480 with 1 Axes>"
            ]
          },
          "metadata": {},
          "output_type": "display_data"
        },
        {
          "data": {
            "image/png": "[encoded data removed]",
            "text/plain": [
              "<Figure size 640x480 with 1 Axes>"
            ]
          },
          "metadata": {},
          "output_type": "display_data"
        }
      ],
      "source": [
        "#Plotting the Training and validation loss\n",
        "plt.plot(history.history['loss'], label='Training Loss')\n",
        "plt.plot(history.history['val_loss'], label='Validation Loss')\n",
        "plt.title('Training and Validation Loss')\n",
        "plt.xlabel('Epochs')\n",
        "plt.ylabel('Loss')\n",
        "plt.legend()\n",
        "plt.show()\n",
        "\n",
        "# Plot training and validation accuracy\n",
        "plt.plot(history.history['accuracy'], label='Training Accuracy')\n",
        "plt.plot(history.history['val_accuracy'], label='Validation Accuracy')\n",
        "plt.title('Training and Validation Accuracy')\n",
        "plt.xlabel('Epochs')\n",
        "plt.ylabel('Accuracy')\n",
        "plt.legend()\n",
        "plt.show()"
      ]
    },
    {
      "cell_type": "code",
      "execution_count": null,
      "metadata": {
        "colab": {
          "base_uri": "https://localhost:8080/"
        },
        "id": "o0_6dVj3JIA7",
        "outputId": "7f3e5412-134f-4950-9e00-a3030440980b"
      },
      "outputs": [
        {
          "name": "stdout",
          "output_type": "stream",
          "text": [
            "Model: \"sequential_2\"\n",
            "_________________________________________________________________\n",
            " Layer (type)                Output Shape              Param #   \n",
            "=================================================================\n",
            " dense_6 (Dense)             (None, 150)               6300      \n",
            "                                                                 \n",
            " dropout_4 (Dropout)         (None, 150)               0         \n",
            "                                                                 \n",
            " dense_7 (Dense)             (None, 150)               22650     \n",
            "                                                                 \n",
            " dropout_5 (Dropout)         (None, 150)               0         \n",
            "                                                                 \n",
            " dense_8 (Dense)             (None, 8)                 1208      \n",
            "                                                                 \n",
            "=================================================================\n",
            "Total params: 30,158\n",
            "Trainable params: 30,158\n",
            "Non-trainable params: 0\n",
            "_________________________________________________________________\n"
          ]
        }
      ],
      "source": [
        "model.summary()"
      ]
    },
    {
      "cell_type": "code",
      "execution_count": 1,
      "metadata": {
        "colab": {
          "base_uri": "https://localhost:8080/"
        },
        "id": "Oa_j_Ig0JckE",
        "outputId": "6ae166cd-1d18-48f8-fee1-eaa3507c924d"
      },
      "outputs": [
        {
          "ename": "NameError",
          "evalue": "name 'model' is not defined",
          "output_type": "error",
          "traceback": [
            "\u001b[0;31m---------------------------------------------------------------------------\u001b[0m",
            "\u001b[0;31mNameError\u001b[0m                                 Traceback (most recent call last)",
            "Cell \u001b[0;32mIn[1], line 1\u001b[0m\n\u001b[0;32m----> 1\u001b[0m model\u001b[39m.\u001b[39msave(\u001b[39m'\u001b[39m\u001b[39mcount_included_nn\u001b[39m\u001b[39m'\u001b[39m)\n",
            "\u001b[0;31mNameError\u001b[0m: name 'model' is not defined"
          ]
        }
      ],
      "source": [
        "model.save('count_included_nn')"
      ]
    }
  ],
  "metadata": {
    "accelerator": "GPU",
    "colab": {
      "gpuType": "T4",
      "provenance": []
    },
    "kernelspec": {
      "display_name": "Python 3",
      "name": "python3"
    },
    "language_info": {
      "codemirror_mode": {
        "name": "ipython",
        "version": 3
      },
      "file_extension": ".py",
      "mimetype": "text/x-python",
      "name": "python",
      "nbconvert_exporter": "python",
      "pygments_lexer": "ipython3",
      "version": "3.9.1"
    }
  },
  "nbformat": 4,
  "nbformat_minor": 0
}
